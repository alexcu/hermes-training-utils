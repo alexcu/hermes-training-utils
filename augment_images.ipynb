{
 "cells": [
  {
   "cell_type": "code",
   "execution_count": 89,
   "metadata": {
    "collapsed": false
   },
   "outputs": [
    {
     "name": "stdout",
     "output_type": "stream",
     "text": [
      "Populating the interactive namespace from numpy and matplotlib\n"
     ]
    }
   ],
   "source": [
    "import matplotlib.pyplot as plt\n",
    "import matplotlib.patches as patches\n",
    "import os\n",
    "import imgaug as ia\n",
    "from imgaug import augmenters as iaa\n",
    "import numpy as np\n",
    "import scipy\n",
    "import math\n",
    "from scipy import misc\n",
    "from glob import glob\n",
    "import json\n",
    "%pylab inline\n",
    "pylab.rcParams['figure.figsize'] = (20, 20)"
   ]
  },
  {
   "cell_type": "code",
   "execution_count": 8,
   "metadata": {
    "collapsed": false
   },
   "outputs": [],
   "source": [
    "# Load in images *ALL*\n",
    "PROCESS_ALL_IMAGES = False\n",
    "dataset = \"24-06-2017\"\n",
    "\n",
    "# Read in photos, their labels, then the image, then zip together\n",
    "image_files = glob(\"/Users/Alex/Desktop/tagging_iterations/%s/**/%s.jpg\" % (dataset, (\"*\" if PROCESS_ALL_IMAGES else \"*362 (6)\")))\n",
    "labels = [json.load((open(\"%s.json\" % p))) for p in image_files]\n",
    "\n",
    "images = [misc.imread(p) for p in image_files]\n",
    "image_identifiers = [os.path.splitext(os.path.basename(p))[0] for p in image_files]\n",
    "\n",
    "# Resize all our images to SCALE%; map coordinates to new scale\n",
    "SCALE = 0.2\n",
    "images = [misc.imresize(p, SCALE) for p in images]\n",
    "data = dict(zip(image_identifiers, images))\n",
    "\n",
    "# Setup output\n",
    "outdir = \"/Users/Alex/Desktop/augmented_images/%s\" % dataset\n",
    "if not os.path.exists(outdir):\n",
    "    os.makedirs(outdir)\n",
    "\n",
    "# TODO: Ignore scaling for now, use imgaug instead to scale down!\n",
    "\n",
    "# def convert_string_bib_coord_to_ia_keypoint(coord_str):\n",
    "#     coords = [ int(int(pt) * SCALE) for pt in coord_str.split(', ') ]\n",
    "#     keypoint = ia.Keypoint(x=coords[0], y=coords[1])\n",
    "#     ia.KeypointsOnImage(keypoints, shape=image.shape)\n",
    "#     return keypoint\n",
    "\n",
    "# def extract_bib_sheet_coords(label):\n",
    "#     return [np.array([\n",
    "#         convert_string_bib_coord_to_ia_keypoint(s) for s in runner['Bib']['PixelPoints']\n",
    "#     ]) for runner in label['TaggedRunners']]\n",
    "\n",
    "def extract_bib_keypoints_on_image_from_label(label):    \n",
    "    def extract_bib_keypoint_from_coords_str(coords_str):\n",
    "        coords = [ int(int(pt) * SCALE) for pt in coords_str.split(', ') ]\n",
    "        keypoint = ia.Keypoint(x=coords[0], y=coords[1])\n",
    "        return keypoint\n",
    "    \n",
    "    def extract_bib_keypoints_from_runner(runner):\n",
    "        coords = runner[\"Bib\"][\"PixelPoints\"]\n",
    "        return [ extract_bib_keypoint_from_coords_str(c) for c in coords ]\n",
    "    \n",
    "    # Extract the image\n",
    "    image_identifier = label[\"Identifier\"]\n",
    "    image = data[image_identifier]\n",
    "    \n",
    "    # Flatten each runner down\n",
    "    keypoints = np.array([ extract_bib_keypoints_from_runner(runner) for runner in label[\"TaggedRunners\"] ]).flatten()\n",
    "    \n",
    "    # Return a single KeypointsOnImage\n",
    "    return ia.KeypointsOnImage(keypoints, shape=image.shape)\n",
    "\n",
    "# Extract all bib sheets and their respective coordinates and map to scaled matrix\n",
    "keypoints = [ extract_bib_keypoints_on_image_from_label(label) for label in labels ]"
   ]
  },
  {
   "cell_type": "code",
   "execution_count": 9,
   "metadata": {
    "collapsed": false
   },
   "outputs": [],
   "source": [
    "def affine():\n",
    "    TRANSLATE_PCT_RANGE = 0.35\n",
    "    ROTATION_RANGE = (-45,45)\n",
    "    SHEAR_RANGE = (-5,5) \n",
    "    \n",
    "    translate_percent = {\n",
    "        \"x\": (-TRANSLATE_PCT_RANGE, +TRANSLATE_PCT_RANGE),\n",
    "        \"y\": (-TRANSLATE_PCT_RANGE, +TRANSLATE_PCT_RANGE),\n",
    "    }\n",
    "    rotate=ROTATION_RANGE\n",
    "    shear=SHEAR_RANGE\n",
    "    mode = \"edge\"\n",
    "    \n",
    "    return iaa.Affine(translate_percent=translate_percent,\n",
    "                      rotate=rotate,\n",
    "                      shear=shear,\n",
    "                      mode=mode)\n",
    "\n",
    "def add_neg():\n",
    "    return iaa.Add((-45, 0))\n",
    "\n",
    "def add_pos():\n",
    "    return iaa.Add((0, 45))\n",
    "\n",
    "def mul_neg():\n",
    "    return iaa.Multiply((0.5, 1))\n",
    "\n",
    "def mul_pos():\n",
    "    return iaa.Multiply((1, 1.5))\n",
    "\n",
    "def blur():\n",
    "    return one_of([\n",
    "        iaa.GaussianBlur((0, 3.0)),\n",
    "        iaa.AverageBlur(k=(2, 4)),\n",
    "        iaa.MedianBlur(k=(3, 5)),\n",
    "    ])\n",
    "\n",
    "# Sometimes(0.5, ...) applies the given augmenter in 50% of all cases,\n",
    "# e.g. Sometimes(0.5, GaussianBlur(0.3)) would blur roughly every second image.\n",
    "def sometimes(aug, pct = 0.5):\n",
    "    return iaa.Sometimes(pct, aug)\n",
    "    \n",
    "def one_of(funcs):\n",
    "    return iaa.OneOf(funcs)\n",
    "\n",
    "seq = iaa.Sequential(\n",
    "    [\n",
    "        affine(),\n",
    "        sometimes(one_of([add_pos(), add_neg()])),\n",
    "        sometimes(one_of([mul_pos(), mul_neg()])),\n",
    "        sometimes(blur(), 0.3)\n",
    "    ],\n",
    "    random_order=True\n",
    ")"
   ]
  },
  {
   "cell_type": "code",
   "execution_count": 106,
   "metadata": {
    "collapsed": false
   },
   "outputs": [],
   "source": [
    "def keypoints_per_person(kpts):\n",
    "    # Group one keypoint per person\n",
    "    return [kpts.keypoints[i:i + 4] for i in range(0, len(kpts.keypoints), 4)]\n",
    "\n",
    "def plot_img(src_image, src_keypoints, aug_image, aug_keypoints, aug_rects):\n",
    "    def plot_keypoints_on_ax(kpts, ax_id):\n",
    "        polys = keypoints_per_person(kpts)\n",
    "        for poly in polys:\n",
    "            coords = [[coords.x, coords.y] for coords in poly]\n",
    "            ax[ax_id].add_patch(patches.Polygon(coords, linewidth=3, edgecolor='lime', fill=False))\n",
    "    \n",
    "    fig, ax = plt.subplots(2)\n",
    "    ax[0].imshow(src_image)\n",
    "    ax[1].imshow(aug_image)\n",
    "    plot_keypoints_on_ax(src_keypoints, 0)\n",
    "    plot_keypoints_on_ax(aug_keypoints, 1)\n",
    "    \n",
    "    for rect in aug_rects:\n",
    "        ax[1].add_patch(patches.Rectangle((rect[\"x\"], rect[\"y\"]), width=rect[\"w\"], height=rect[\"h\"], fill=False, linestyle=\"dashed\", linewidth=3, color=\"red\"))\n",
    "    \n",
    "    return fig\n",
    "\n",
    "def show_results(img_idx):\n",
    "    plt.close()\n",
    "    image = images[img_idx]\n",
    "    image_aug_keypoints = valid_keypoints(aug_keypoints[img_idx], image)\n",
    "    image_aug_rects = keypoints_to_rects(image_aug_keypoints)\n",
    "    image_aug_keypoints = ia.KeypointsOnImage(np.array(image_aug_keypoints).flatten(), shape=image.shape)\n",
    "    return plot_img(images[img_idx], keypoints[img_idx], aug_images[img_idx], image_aug_keypoints, image_aug_rects)"
   ]
  },
  {
   "cell_type": "code",
   "execution_count": 112,
   "metadata": {
    "collapsed": false
   },
   "outputs": [
    {
     "ename": "SyntaxError",
     "evalue": "invalid syntax (<ipython-input-112-1286a2105066>, line 38)",
     "output_type": "error",
     "traceback": [
      "\u001b[0;36m  File \u001b[0;32m\"<ipython-input-112-1286a2105066>\"\u001b[0;36m, line \u001b[0;32m38\u001b[0m\n\u001b[0;31m    line = \"bib %i %i %i %i\" % (rect[\"x\"], rect[\"y\"], rect[])\u001b[0m\n\u001b[0m                                                           ^\u001b[0m\n\u001b[0;31mSyntaxError\u001b[0m\u001b[0;31m:\u001b[0m invalid syntax\n"
     ]
    }
   ],
   "source": [
    "def valid_keypoints(kpts, image):\n",
    "    # Returns any keypoints that are outside the width/height of the image\n",
    "    width = image.shape[1]\n",
    "    height = image.shape[0]\n",
    "    # Group by four (for each person)\n",
    "    runner_keypoints = keypoints_per_person(kpts)\n",
    "    # Copy over the \"valid\" keypoints (assume all are valid)\n",
    "    valid_keypoints = [e for e in runner_keypoints]\n",
    "    for kpts in runner_keypoints:\n",
    "        for k in kpts:\n",
    "            # If hidden, remove this runner\n",
    "            if k.x < 0 or k.x > width or k .y < 0 or k.y > height:\n",
    "                # Remove from valid if hidden\n",
    "                valid_keypoints.remove(kpts)\n",
    "                break\n",
    "    # Whatever remains becomes the Bib click points for these runners\n",
    "    return valid_keypoints\n",
    "\n",
    "def keypoints_to_rects(kpts):\n",
    "    rects = []\n",
    "    for kpt in kpts:\n",
    "        xs = [i.x for i in kpt]\n",
    "        ys = [i.y for i in kpt]\n",
    "        min_x, max_x = min(xs), max(xs)\n",
    "        min_y, max_y = min(ys), max(ys)\n",
    "        x = min_x\n",
    "        y = min_y\n",
    "        w = max_x - min_x\n",
    "        h = max_y - min_y\n",
    "        rects.append({\"x\": x, \"y\": y, \"w\": w, \"h\": h})\n",
    "    return rects\n",
    "\n",
    "def write_class_file(image):\n",
    "    img_idx = images.index(image)\n",
    "    image_identifier = image_identifiers[img_idx]\n",
    "    image_aug_keypoints = valid_keypoints(aug_keypoints[img_idx], image)\n",
    "    image_aug_rects = keypoints_to_rects(image_aug_keypoints)\n",
    "    lines = []\n",
    "    for rect in image_aug_rects:\n",
    "        line = \"bib %i %i %i %i\" % (rect[\"x\"], rect[\"y\"], rect[\"w\"], rect[\"h\"])\n",
    "        lines.append(line)\n",
    "    text_file = open(\"%s/%s.txt\" % (outdir, image_identifier), \"w\")\n",
    "    text_file.write(lines.join(\"\\n\"))\n",
    "    text_file.close()\n",
    "        \n",
    "if not PROCESS_ALL_IMAGES:\n",
    "    for i in range(25):\n",
    "        # Process 25 images\n",
    "        seq_det = seq.to_deterministic()\n",
    "        aug_images = seq_det.augment_images(images)\n",
    "        aug_keypoints = seq_det.augment_keypoints(keypoints)\n",
    "        show_results(0).savefig(\"/Users/Alex/Desktop/augmented_images_test/%s_augmented.png\" % i)"
   ]
  },
  {
   "cell_type": "code",
   "execution_count": null,
   "metadata": {
    "collapsed": true
   },
   "outputs": [],
   "source": [
    "w"
   ]
  }
 ],
 "metadata": {
  "kernelspec": {
   "display_name": "Python 2",
   "language": "python",
   "name": "python2"
  },
  "language_info": {
   "codemirror_mode": {
    "name": "ipython",
    "version": 2
   },
   "file_extension": ".py",
   "mimetype": "text/x-python",
   "name": "python",
   "nbconvert_exporter": "python",
   "pygments_lexer": "ipython2",
   "version": "2.7.13"
  }
 },
 "nbformat": 4,
 "nbformat_minor": 2
}
