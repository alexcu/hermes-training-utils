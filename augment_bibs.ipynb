{
 "cells": [
  {
   "cell_type": "code",
   "execution_count": 1,
   "metadata": {
    "collapsed": false
   },
   "outputs": [],
   "source": [
    "import matplotlib.pyplot as plt\n",
    "import imgaug as ia\n",
    "import os\n",
    "from imgaug import augmenters as iaa\n",
    "import numpy as np\n",
    "from scipy import misc\n",
    "from glob import glob\n",
    "import json\n",
    "%matplotlib inline"
   ]
  },
  {
   "cell_type": "code",
   "execution_count": 2,
   "metadata": {
    "collapsed": false
   },
   "outputs": [],
   "source": [
    "# Load in images *ALL*\n",
    "PROCESS_ALL_IMAGES = True\n",
    "dataset = \"24-06-2017\"\n",
    "bibpics = glob(\"/Users/Alex/Desktop/extracted_features/%s/**/Bib_%s.jpg\" % (dataset, (\"*\" if PROCESS_ALL_IMAGES else \"*11011\")))\n",
    "outdir = \"/Users/Alex/Desktop/augmented_features/%s\" % dataset\n",
    "if not os.path.exists(outdir):\n",
    "    os.makedirs(outdir)\n",
    "images = [misc.imread(bib) for bib in bibpics]"
   ]
  },
  {
   "cell_type": "code",
   "execution_count": 3,
   "metadata": {
    "collapsed": false
   },
   "outputs": [],
   "source": [
    "def affine():\n",
    "    TRANSLATE_PCT_RANGE = 0.2\n",
    "    ROTATION_RANGE = (-45, 45)\n",
    "    SHEAR_RANGE = (-10,10) \n",
    "    \n",
    "    translate_percent = {\n",
    "        \"x\": (-TRANSLATE_PCT_RANGE, +TRANSLATE_PCT_RANGE),\n",
    "        \"y\": (-TRANSLATE_PCT_RANGE, +TRANSLATE_PCT_RANGE),\n",
    "    }\n",
    "    rotate=ROTATION_RANGE\n",
    "    shear=SHEAR_RANGE\n",
    "    mode = \"edge\"\n",
    "    \n",
    "    return iaa.Affine(translate_percent=translate_percent,\n",
    "                      rotate=rotate,\n",
    "                      shear=shear,\n",
    "                      mode=mode)\n",
    "\n",
    "def superpixels():\n",
    "    return iaa.Superpixels(n_segments=250, p_replace=0.25)\n",
    "\n",
    "def add_neg():\n",
    "    return iaa.Add((-45, 0))\n",
    "\n",
    "def add_pos():\n",
    "    return iaa.Add((0, 45))\n",
    "\n",
    "def mul_neg():\n",
    "    return iaa.Multiply((0.5, 1))\n",
    "\n",
    "def mul_pos():\n",
    "    return iaa.Multiply((1, 1.5))"
   ]
  },
  {
   "cell_type": "code",
   "execution_count": 4,
   "metadata": {
    "collapsed": false
   },
   "outputs": [],
   "source": [
    "# Sometimes(0.5, ...) applies the given augmenter in 50% of all cases,\n",
    "# e.g. Sometimes(0.5, GaussianBlur(0.3)) would blur roughly every second image.\n",
    "def sometimes(aug, pct = 0.5):\n",
    "    return iaa.Sometimes(pct, aug)\n",
    "    \n",
    "def one_of(funcs):\n",
    "    return iaa.OneOf(funcs)\n",
    "\n",
    "# Define our sequence of augmentation steps that will be applied to every image\n",
    "# All augmenters with per_channel=0.5 will sample one value _per image_\n",
    "# in 50% of all cases. In all other cases they will sample new values\n",
    "# _per channel_.\n",
    "seq = iaa.Sequential(\n",
    "    [\n",
    "        affine(),\n",
    "        sometimes(superpixels(), 0.1),\n",
    "        sometimes(one_of([add_pos(), add_neg()])),\n",
    "        sometimes(one_of([mul_pos(), mul_neg()])),\n",
    "    ],\n",
    "    random_order=True\n",
    ")"
   ]
  },
  {
   "cell_type": "code",
   "execution_count": 5,
   "metadata": {
    "collapsed": false
   },
   "outputs": [],
   "source": [
    "bibpics_aug = seq.augment_images(images)\n",
    "if PROCESS_ALL_IMAGES:\n",
    "    for original_file_loc, aug_bib in zip(bibpics, bibpics_aug):\n",
    "        file_id = os.path.basename(original_file_loc)\n",
    "        misc.imsave(\"%s/%s\" % (outdir, file_id), aug_bib)\n",
    "else:\n",
    "    plt.imshow(bibpics_aug[0])"
   ]
  },
  {
   "cell_type": "code",
   "execution_count": 6,
   "metadata": {
    "collapsed": true
   },
   "outputs": [],
   "source": [
    "# # execute 0 to 5 of the following (less important) augmenters per image\n",
    "#         # don't execute all of them, as that would often be way too strong\n",
    "#         iaa.SomeOf((0, 5),\n",
    "#             [\n",
    "#                 sometimes(iaa.Superpixels(p_replace=(0, 1.0), n_segments=(150, 200))), # convert images into their superpixel representation\n",
    "#                 iaa.OneOf([\n",
    "#                     iaa.GaussianBlur((0, 3.0)), # blur images with a sigma between 0 and 3.0\n",
    "#                     iaa.AverageBlur(k=(2, 7)), # blur image using local means with kernel sizes between 2 and 7\n",
    "#                     iaa.MedianBlur(k=(3, 11)), # blur image using local medians with kernel sizes between 2 and 7\n",
    "#                 ]),\n",
    "#                 iaa.Sharpen(alpha=(0, 1.0), lightness=(0.75, 1.5)), # sharpen images\n",
    "#                 iaa.Emboss(alpha=(0, 1.0), strength=(0, 2.0)), # emboss images\n",
    "#                 # search either for all edges or for directed edges\n",
    "#                 sometimes(iaa.OneOf([\n",
    "#                     iaa.EdgeDetect(alpha=(0, 0.7)),\n",
    "#                     iaa.DirectedEdgeDetect(alpha=(0, 0.7), direction=(0.0, 1.0)),\n",
    "#                 ])),\n",
    "#                 iaa.AdditiveGaussianNoise(loc=0, scale=(0.0, 0.05*255), per_channel=0.5), # add gaussian noise to images\n",
    "#                 iaa.OneOf([\n",
    "#                     iaa.Dropout((0.01, 0.1), per_channel=0.5), # randomly remove up to 10% of the pixels\n",
    "#                     iaa.CoarseDropout((0.03, 0.15), size_percent=(0.02, 0.05), per_channel=0.2),\n",
    "#                 ]),\n",
    "#                 iaa.Add((-10, 10), per_channel=0.5), # change brightness of images (by -10 to 10 of original value)\n",
    "#                 iaa.Multiply((0.5, 1.5), per_channel=0.5), # change brightness of images (50-150% of original value)\n",
    "#                 iaa.ContrastNormalization((0.5, 2.0), per_channel=0.5), # improve or worsen the contrast\n",
    "#                 iaa.Grayscale(alpha=(0.0, 1.0)),\n",
    "#                 sometimes(iaa.ElasticTransformation(alpha=(0.5, 3.5), sigma=0.25)), # move pixels locally around (with random strengths)\n",
    "#                 sometimes(iaa.PiecewiseAffine(scale=(0.01, 0.05))) # sometimes move parts of the image around\n",
    "#             ],\n",
    "#             random_order=True\n",
    "#         )"
   ]
  }
 ],
 "metadata": {
  "kernelspec": {
   "display_name": "Python 2",
   "language": "python",
   "name": "python2"
  },
  "language_info": {
   "codemirror_mode": {
    "name": "ipython",
    "version": 2
   },
   "file_extension": ".py",
   "mimetype": "text/x-python",
   "name": "python",
   "nbconvert_exporter": "python",
   "pygments_lexer": "ipython2",
   "version": "2.7.13"
  }
 },
 "nbformat": 4,
 "nbformat_minor": 2
}
